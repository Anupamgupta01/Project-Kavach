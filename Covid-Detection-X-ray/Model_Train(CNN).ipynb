{
 "cells": [
  {
   "cell_type": "code",
   "execution_count": 1,
   "metadata": {
    "colab": {},
    "colab_type": "code",
    "id": "qLgXb1phenfr"
   },
   "outputs": [],
   "source": [
    "import numpy as np\n",
    "\n",
    "data=np.load('data.npy')\n",
    "target=np.load('target.npy')"
   ]
  },
  {
   "cell_type": "code",
   "execution_count": 2,
   "metadata": {
    "colab": {
     "base_uri": "https://localhost:8080/",
     "height": 717
    },
    "colab_type": "code",
    "id": "ertMpl3renfx",
    "outputId": "b9281743-2e68-4cb3-d16f-2b46fcc2bbbf"
   },
   "outputs": [
    {
     "name": "stdout",
     "output_type": "stream",
     "text": [
      "env: SM_FRAMEWORK=tensorflow.keras\n",
      "Model: \"sequential\"\n",
      "_________________________________________________________________\n",
      "Layer (type)                 Output Shape              Param #   \n",
      "=================================================================\n",
      "model (Functional)           (None, 10, 10, 384)       11008     \n",
      "_________________________________________________________________\n",
      "conv2d_3 (Conv2D)            (None, 8, 8, 64)          221248    \n",
      "_________________________________________________________________\n",
      "activation (Activation)      (None, 8, 8, 64)          0         \n",
      "_________________________________________________________________\n",
      "max_pooling2d (MaxPooling2D) (None, 4, 4, 64)          0         \n",
      "_________________________________________________________________\n",
      "conv2d_4 (Conv2D)            (None, 2, 2, 32)          18464     \n",
      "_________________________________________________________________\n",
      "activation_1 (Activation)    (None, 2, 2, 32)          0         \n",
      "_________________________________________________________________\n",
      "max_pooling2d_1 (MaxPooling2 (None, 1, 1, 32)          0         \n",
      "_________________________________________________________________\n",
      "flatten (Flatten)            (None, 32)                0         \n",
      "_________________________________________________________________\n",
      "dropout (Dropout)            (None, 32)                0         \n",
      "_________________________________________________________________\n",
      "dense (Dense)                (None, 128)               4224      \n",
      "_________________________________________________________________\n",
      "dropout_1 (Dropout)          (None, 128)               0         \n",
      "_________________________________________________________________\n",
      "dense_1 (Dense)              (None, 64)                8256      \n",
      "_________________________________________________________________\n",
      "dropout_2 (Dropout)          (None, 64)                0         \n",
      "_________________________________________________________________\n",
      "dense_2 (Dense)              (None, 2)                 130       \n",
      "=================================================================\n",
      "Total params: 263,330\n",
      "Trainable params: 263,330\n",
      "Non-trainable params: 0\n",
      "_________________________________________________________________\n"
     ]
    }
   ],
   "source": [
    "import tensorflow\n",
    "from tensorflow import keras\n",
    "%env SM_FRAMEWORK=tensorflow.keras\n",
    "\n",
    "from tensorflow.keras.models import Sequential,Model\n",
    "from tensorflow.keras.layers import Dense, Dropout, Flatten\n",
    "from tensorflow.keras.layers import Conv2D,Activation,MaxPooling2D\n",
    "from tensorflow.keras.utils import normalize\n",
    "from tensorflow.keras.layers import Concatenate\n",
    "from tensorflow.keras import Input\n",
    "from tensorflow.keras.callbacks import ModelCheckpoint\n",
    "\n",
    "input_shape=data.shape[1:] \n",
    "inp=Input(shape=input_shape)\n",
    "convs=[]\n",
    "\n",
    "parrallel_kernels=[3,5,7]\n",
    "\n",
    "for k in range(len(parrallel_kernels)):\n",
    "\n",
    "    conv = Conv2D(128, parrallel_kernels[k],padding='same',activation='relu',input_shape=input_shape,strides=1)(inp)\n",
    "    convs.append(conv)\n",
    "\n",
    "out = Concatenate()(convs)\n",
    "conv_model = Model(inp,out)\n",
    "\n",
    "model = Sequential()\n",
    "model.add(conv_model)\n",
    "\n",
    "model.add(Conv2D(64,(3,3)))\n",
    "model.add(Activation('relu'))\n",
    "model.add(MaxPooling2D(pool_size=(2,2)))\n",
    "\n",
    "model.add(Conv2D(32,(3,3)))\n",
    "model.add(Activation('relu'))\n",
    "model.add(MaxPooling2D(pool_size=(2,2)))\n",
    "\n",
    "model.add(Flatten())\n",
    "model.add(Dropout(0.5))\n",
    "model.add(Dense(128,activation='relu'))\n",
    "model.add(Dropout(0.5))\n",
    "model.add(Dense(64,activation='relu'))\n",
    "model.add(Dropout(0.5))\n",
    "model.add(Dense(2,input_dim=128,activation='softmax'))\n",
    "model.compile(loss='categorical_crossentropy',optimizer='adam',metrics=['accuracy'])\n",
    "\n",
    "model.summary()"
   ]
  },
  {
   "cell_type": "code",
   "execution_count": 3,
   "metadata": {
    "colab": {},
    "colab_type": "code",
    "id": "WQkqpg28engN"
   },
   "outputs": [],
   "source": [
    "import sklearn\n",
    "from sklearn.model_selection import train_test_split\n",
    "\n",
    "train_data,test_data,train_target,test_target=train_test_split(data,target,test_size=0.1)"
   ]
  },
  {
   "cell_type": "code",
   "execution_count": 4,
   "metadata": {
    "colab": {
     "base_uri": "https://localhost:8080/",
     "height": 714
    },
    "colab_type": "code",
    "id": "wo2sqr4CengR",
    "outputId": "3de2ac82-256a-432b-ff0c-fcddd94493da"
   },
   "outputs": [
    {
     "name": "stdout",
     "output_type": "stream",
     "text": [
      "Epoch 1/20\n",
      "6/6 [==============================] - 7s 421ms/step - loss: 0.6934 - accuracy: 0.4444 - val_loss: 0.6934 - val_accuracy: 0.4444\n",
      "INFO:tensorflow:Assets written to: model-001.model\\assets\n",
      "Epoch 2/20\n",
      "6/6 [==============================] - 2s 332ms/step - loss: 0.6927 - accuracy: 0.5617 - val_loss: 0.6937 - val_accuracy: 0.4444\n",
      "Epoch 3/20\n",
      "6/6 [==============================] - 2s 319ms/step - loss: 0.6929 - accuracy: 0.5309 - val_loss: 0.6932 - val_accuracy: 0.4444\n",
      "INFO:tensorflow:Assets written to: model-003.model\\assets\n",
      "Epoch 4/20\n",
      "6/6 [==============================] - 2s 328ms/step - loss: 0.6934 - accuracy: 0.5123 - val_loss: 0.6928 - val_accuracy: 0.5556\n",
      "INFO:tensorflow:Assets written to: model-004.model\\assets\n",
      "Epoch 5/20\n",
      "6/6 [==============================] - 2s 320ms/step - loss: 0.6934 - accuracy: 0.5062 - val_loss: 0.6926 - val_accuracy: 0.5556\n",
      "INFO:tensorflow:Assets written to: model-005.model\\assets\n",
      "Epoch 6/20\n",
      "6/6 [==============================] - 2s 310ms/step - loss: 0.6921 - accuracy: 0.5617 - val_loss: 0.6918 - val_accuracy: 0.5556\n",
      "INFO:tensorflow:Assets written to: model-006.model\\assets\n",
      "Epoch 7/20\n",
      "6/6 [==============================] - 2s 315ms/step - loss: 0.6955 - accuracy: 0.4136 - val_loss: 0.6912 - val_accuracy: 0.5556\n",
      "INFO:tensorflow:Assets written to: model-007.model\\assets\n",
      "Epoch 8/20\n",
      "6/6 [==============================] - 2s 330ms/step - loss: 0.6945 - accuracy: 0.4753 - val_loss: 0.6916 - val_accuracy: 0.5556\n",
      "Epoch 9/20\n",
      "6/6 [==============================] - 2s 314ms/step - loss: 0.6956 - accuracy: 0.4630 - val_loss: 0.6924 - val_accuracy: 0.5556\n",
      "Epoch 10/20\n",
      "6/6 [==============================] - 2s 311ms/step - loss: 0.6933 - accuracy: 0.4753 - val_loss: 0.6928 - val_accuracy: 0.5556\n",
      "Epoch 11/20\n",
      "6/6 [==============================] - 2s 310ms/step - loss: 0.6922 - accuracy: 0.5370 - val_loss: 0.6933 - val_accuracy: 0.4444\n",
      "Epoch 12/20\n",
      "6/6 [==============================] - 2s 314ms/step - loss: 0.6936 - accuracy: 0.4568 - val_loss: 0.6929 - val_accuracy: 0.5556\n",
      "Epoch 13/20\n",
      "6/6 [==============================] - 2s 344ms/step - loss: 0.6931 - accuracy: 0.5000 - val_loss: 0.6927 - val_accuracy: 0.5556\n",
      "Epoch 14/20\n",
      "6/6 [==============================] - 2s 310ms/step - loss: 0.6940 - accuracy: 0.4691 - val_loss: 0.6926 - val_accuracy: 0.5556\n",
      "Epoch 15/20\n",
      "6/6 [==============================] - 2s 314ms/step - loss: 0.6933 - accuracy: 0.5185 - val_loss: 0.6922 - val_accuracy: 0.5556\n",
      "Epoch 16/20\n",
      "6/6 [==============================] - 2s 314ms/step - loss: 0.6931 - accuracy: 0.4568 - val_loss: 0.6921 - val_accuracy: 0.5556\n",
      "Epoch 17/20\n",
      "6/6 [==============================] - 2s 311ms/step - loss: 0.6939 - accuracy: 0.4568 - val_loss: 0.6922 - val_accuracy: 0.5556\n",
      "Epoch 18/20\n",
      "6/6 [==============================] - 2s 311ms/step - loss: 0.6941 - accuracy: 0.4938 - val_loss: 0.6919 - val_accuracy: 0.5556\n",
      "Epoch 19/20\n",
      "6/6 [==============================] - 2s 312ms/step - loss: 0.6930 - accuracy: 0.5062 - val_loss: 0.6917 - val_accuracy: 0.5556\n",
      "Epoch 20/20\n",
      "6/6 [==============================] - 2s 347ms/step - loss: 0.6936 - accuracy: 0.5000 - val_loss: 0.6917 - val_accuracy: 0.5556\n"
     ]
    }
   ],
   "source": [
    "checkpoint = ModelCheckpoint('model-{epoch:03d}.model',monitor='val_loss',verbose=0,save_best_only=True,mode='auto')\n",
    "history=model.fit(train_data,train_target,epochs=20,callbacks=[checkpoint],validation_split=0.1)"
   ]
  },
  {
   "cell_type": "code",
   "execution_count": null,
   "metadata": {
    "colab": {
     "base_uri": "https://localhost:8080/",
     "height": 279
    },
    "colab_type": "code",
    "id": "F0lkS8paengW",
    "outputId": "9374bed5-8262-4516-ecfd-06a611acb924"
   },
   "outputs": [],
   "source": [
    "from matplotlib import pyplot as plt\n",
    "\n",
    "plt.plot(history.history['loss'],'r',label='training loss')\n",
    "plt.plot(history.history['val_loss'],label='validation loss')\n",
    "plt.xlabel('# epochs')\n",
    "plt.ylabel('loss')\n",
    "plt.legend()\n",
    "plt.show()"
   ]
  },
  {
   "cell_type": "code",
   "execution_count": null,
   "metadata": {
    "colab": {
     "base_uri": "https://localhost:8080/",
     "height": 279
    },
    "colab_type": "code",
    "id": "gU5uAPX4pBgq",
    "outputId": "b7e4e36b-e260-4635-e640-41578bc752dc"
   },
   "outputs": [],
   "source": [
    "plt.plot(history.history['accuracy'],'r',label='training accuracy')\n",
    "plt.plot(history.history['val_accuracy'],label='validation accuracy')\n",
    "plt.xlabel('# epochs')\n",
    "plt.ylabel('loss')\n",
    "plt.legend()\n",
    "plt.show()"
   ]
  },
  {
   "cell_type": "code",
   "execution_count": 5,
   "metadata": {
    "colab": {
     "base_uri": "https://localhost:8080/",
     "height": 51
    },
    "colab_type": "code",
    "id": "66XB-M0NpEIR",
    "outputId": "4facb8ee-41cd-46b2-c237-27b548c85e2a"
   },
   "outputs": [
    {
     "name": "stdout",
     "output_type": "stream",
     "text": [
      "1/1 [==============================] - 0s 83ms/step - loss: 0.6946 - accuracy: 0.4500\n",
      "[0.6946083903312683, 0.44999998807907104]\n"
     ]
    }
   ],
   "source": [
    "print(model.evaluate(test_data,test_target))"
   ]
  },
  {
   "cell_type": "code",
   "execution_count": null,
   "metadata": {},
   "outputs": [],
   "source": []
  }
 ],
 "metadata": {
  "accelerator": "GPU",
  "colab": {
   "name": "3.0 Training the CNN.ipynb",
   "provenance": []
  },
  "kernelspec": {
   "display_name": "Python 3",
   "language": "python",
   "name": "python3"
  },
  "language_info": {
   "codemirror_mode": {
    "name": "ipython",
    "version": 3
   },
   "file_extension": ".py",
   "mimetype": "text/x-python",
   "name": "python",
   "nbconvert_exporter": "python",
   "pygments_lexer": "ipython3",
   "version": "3.8.10"
  }
 },
 "nbformat": 4,
 "nbformat_minor": 1
}
